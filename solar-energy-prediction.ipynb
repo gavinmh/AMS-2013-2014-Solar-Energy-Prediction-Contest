{
 "cells": [
  {
   "cell_type": "markdown",
   "metadata": {},
   "source": [
    "# AMS Solar Energy Prediction\n",
    "\n",
    "https://www.kaggle.com/c/ams-2014-solar-energy-prediction-contest/data\n",
    "\n",
    "> The goal of this contest is to discover which statistical and machine learning techniques provide the best short term predictions of solar energy production. Contestants will predict the total daily incoming solar energy at 98 Oklahoma Mesonet sites, which will serve as \"solar farms\" for the contest. Input numerical weather prediction data for the contest comes from the NOAA/ESRL Global Ensemble Forecast System (GEFS) Reforecast Version 2. Data include all 11 ensemble members and the forecast timesteps 12, 15, 18, 21, and 24. Locations of the Mesonet sites relative to the GEFS data are shown in the above figure. Training data will come from 1994-2007. Public testing data will be from 2008-2009. Private testing data for a more recent period will be used for the final evaluation.\n",
    "\n",
    "> Contestants will submit predictions of the total solar daily incoming solar radiation at 98 Oklahoma Mesonet sites for each day specified in the test.csv file. The Mean Absolute Error (MAE) is the metric being used for this competition."
   ]
  },
  {
   "cell_type": "code",
   "execution_count": 78,
   "metadata": {},
   "outputs": [],
   "source": [
    "import os\n",
    "\n",
    "from netCDF4 import Dataset\n",
    "import numpy as np\n",
    "import scipy as sp\n",
    "import pandas as pd\n",
    "import pandas_profiling\n",
    "from sklearn_pandas import DataFrameMapper\n",
    "from sklearn.dummy import DummyRegressor\n",
    "from sklearn.linear_model import LinearRegression\n",
    "from sklearn.pipeline import make_pipeline, Pipeline\n",
    "from sklearn.model_selection import train_test_split, cross_validate, TimeSeriesSplit\n",
    "from xgboost import XGBRegressor\n",
    "from sklearn.metrics import mean_absolute_error, mean_squared_error, make_scorer\n",
    "from yellowbrick.regressor import PredictionError\n",
    "import matplotlib.pyplot as plt\n",
    "import seaborn as sns\n",
    "from tqdm import tqdm\n",
    "\n",
    "tqdm.pandas()"
   ]
  },
  {
   "cell_type": "markdown",
   "metadata": {},
   "source": [
    "## Trivial Model"
   ]
  },
  {
   "cell_type": "code",
   "execution_count": 29,
   "metadata": {},
   "outputs": [
    {
     "name": "stdout",
     "output_type": "stream",
     "text": [
      "(5113, 99)\n"
     ]
    },
    {
     "data": {
      "text/html": [
       "<div>\n",
       "<style scoped>\n",
       "    .dataframe tbody tr th:only-of-type {\n",
       "        vertical-align: middle;\n",
       "    }\n",
       "\n",
       "    .dataframe tbody tr th {\n",
       "        vertical-align: top;\n",
       "    }\n",
       "\n",
       "    .dataframe thead th {\n",
       "        text-align: right;\n",
       "    }\n",
       "</style>\n",
       "<table border=\"1\" class=\"dataframe\">\n",
       "  <thead>\n",
       "    <tr style=\"text-align: right;\">\n",
       "      <th></th>\n",
       "      <th>Date</th>\n",
       "      <th>ACME</th>\n",
       "      <th>ADAX</th>\n",
       "      <th>ALTU</th>\n",
       "      <th>APAC</th>\n",
       "      <th>ARNE</th>\n",
       "      <th>BEAV</th>\n",
       "      <th>BESS</th>\n",
       "      <th>BIXB</th>\n",
       "      <th>BLAC</th>\n",
       "      <th>...</th>\n",
       "      <th>VINI</th>\n",
       "      <th>WASH</th>\n",
       "      <th>WATO</th>\n",
       "      <th>WAUR</th>\n",
       "      <th>WEAT</th>\n",
       "      <th>WEST</th>\n",
       "      <th>WILB</th>\n",
       "      <th>WIST</th>\n",
       "      <th>WOOD</th>\n",
       "      <th>WYNO</th>\n",
       "    </tr>\n",
       "  </thead>\n",
       "  <tbody>\n",
       "    <tr>\n",
       "      <td>0</td>\n",
       "      <td>19940101</td>\n",
       "      <td>12384900</td>\n",
       "      <td>11930700</td>\n",
       "      <td>12116700</td>\n",
       "      <td>12301200</td>\n",
       "      <td>10706100</td>\n",
       "      <td>10116900</td>\n",
       "      <td>11487900</td>\n",
       "      <td>11182800</td>\n",
       "      <td>10848300</td>\n",
       "      <td>...</td>\n",
       "      <td>10771800</td>\n",
       "      <td>12116400</td>\n",
       "      <td>11308800</td>\n",
       "      <td>12361800</td>\n",
       "      <td>11331600</td>\n",
       "      <td>10644300</td>\n",
       "      <td>11715600</td>\n",
       "      <td>11241000</td>\n",
       "      <td>10490100</td>\n",
       "      <td>10545300</td>\n",
       "    </tr>\n",
       "    <tr>\n",
       "      <td>1</td>\n",
       "      <td>19940102</td>\n",
       "      <td>11908500</td>\n",
       "      <td>9778500</td>\n",
       "      <td>10862700</td>\n",
       "      <td>11666400</td>\n",
       "      <td>8062500</td>\n",
       "      <td>9262800</td>\n",
       "      <td>9235200</td>\n",
       "      <td>3963300</td>\n",
       "      <td>3318300</td>\n",
       "      <td>...</td>\n",
       "      <td>4314300</td>\n",
       "      <td>10733400</td>\n",
       "      <td>9154800</td>\n",
       "      <td>12041400</td>\n",
       "      <td>9168300</td>\n",
       "      <td>4082700</td>\n",
       "      <td>9228000</td>\n",
       "      <td>5829900</td>\n",
       "      <td>7412100</td>\n",
       "      <td>3345300</td>\n",
       "    </tr>\n",
       "    <tr>\n",
       "      <td>2</td>\n",
       "      <td>19940103</td>\n",
       "      <td>12470700</td>\n",
       "      <td>9771900</td>\n",
       "      <td>12627300</td>\n",
       "      <td>12782700</td>\n",
       "      <td>11618400</td>\n",
       "      <td>10789800</td>\n",
       "      <td>11895900</td>\n",
       "      <td>4512600</td>\n",
       "      <td>5266500</td>\n",
       "      <td>...</td>\n",
       "      <td>2976900</td>\n",
       "      <td>11775000</td>\n",
       "      <td>10700400</td>\n",
       "      <td>12687300</td>\n",
       "      <td>11324400</td>\n",
       "      <td>2746500</td>\n",
       "      <td>3686700</td>\n",
       "      <td>4488900</td>\n",
       "      <td>9712200</td>\n",
       "      <td>4442100</td>\n",
       "    </tr>\n",
       "    <tr>\n",
       "      <td>3</td>\n",
       "      <td>19940104</td>\n",
       "      <td>12725400</td>\n",
       "      <td>6466800</td>\n",
       "      <td>13065300</td>\n",
       "      <td>12817500</td>\n",
       "      <td>12134400</td>\n",
       "      <td>11816700</td>\n",
       "      <td>12186600</td>\n",
       "      <td>3212700</td>\n",
       "      <td>8270100</td>\n",
       "      <td>...</td>\n",
       "      <td>3476400</td>\n",
       "      <td>12159600</td>\n",
       "      <td>11907000</td>\n",
       "      <td>12953100</td>\n",
       "      <td>11903700</td>\n",
       "      <td>2741400</td>\n",
       "      <td>4905000</td>\n",
       "      <td>4089300</td>\n",
       "      <td>11401500</td>\n",
       "      <td>4365000</td>\n",
       "    </tr>\n",
       "    <tr>\n",
       "      <td>4</td>\n",
       "      <td>19940105</td>\n",
       "      <td>10894800</td>\n",
       "      <td>11545200</td>\n",
       "      <td>8060400</td>\n",
       "      <td>10379400</td>\n",
       "      <td>6918600</td>\n",
       "      <td>9936300</td>\n",
       "      <td>6411300</td>\n",
       "      <td>9566100</td>\n",
       "      <td>8009400</td>\n",
       "      <td>...</td>\n",
       "      <td>6393300</td>\n",
       "      <td>11419500</td>\n",
       "      <td>7334400</td>\n",
       "      <td>10178700</td>\n",
       "      <td>7471500</td>\n",
       "      <td>8235300</td>\n",
       "      <td>11159100</td>\n",
       "      <td>10651500</td>\n",
       "      <td>10006200</td>\n",
       "      <td>8568300</td>\n",
       "    </tr>\n",
       "  </tbody>\n",
       "</table>\n",
       "<p>5 rows × 99 columns</p>\n",
       "</div>"
      ],
      "text/plain": [
       "       Date      ACME      ADAX      ALTU      APAC      ARNE      BEAV  \\\n",
       "0  19940101  12384900  11930700  12116700  12301200  10706100  10116900   \n",
       "1  19940102  11908500   9778500  10862700  11666400   8062500   9262800   \n",
       "2  19940103  12470700   9771900  12627300  12782700  11618400  10789800   \n",
       "3  19940104  12725400   6466800  13065300  12817500  12134400  11816700   \n",
       "4  19940105  10894800  11545200   8060400  10379400   6918600   9936300   \n",
       "\n",
       "       BESS      BIXB      BLAC  ...      VINI      WASH      WATO      WAUR  \\\n",
       "0  11487900  11182800  10848300  ...  10771800  12116400  11308800  12361800   \n",
       "1   9235200   3963300   3318300  ...   4314300  10733400   9154800  12041400   \n",
       "2  11895900   4512600   5266500  ...   2976900  11775000  10700400  12687300   \n",
       "3  12186600   3212700   8270100  ...   3476400  12159600  11907000  12953100   \n",
       "4   6411300   9566100   8009400  ...   6393300  11419500   7334400  10178700   \n",
       "\n",
       "       WEAT      WEST      WILB      WIST      WOOD      WYNO  \n",
       "0  11331600  10644300  11715600  11241000  10490100  10545300  \n",
       "1   9168300   4082700   9228000   5829900   7412100   3345300  \n",
       "2  11324400   2746500   3686700   4488900   9712200   4442100  \n",
       "3  11903700   2741400   4905000   4089300  11401500   4365000  \n",
       "4   7471500   8235300  11159100  10651500  10006200   8568300  \n",
       "\n",
       "[5 rows x 99 columns]"
      ]
     },
     "execution_count": 29,
     "metadata": {},
     "output_type": "execute_result"
    }
   ],
   "source": [
    "train = pd.read_csv('train.csv')\n",
    "print(train.shape)\n",
    "train.head()"
   ]
  },
  {
   "cell_type": "code",
   "execution_count": null,
   "metadata": {},
   "outputs": [],
   "source": [
    "%%time\n",
    "train.profile_report()"
   ]
  },
  {
   "cell_type": "code",
   "execution_count": 42,
   "metadata": {},
   "outputs": [
    {
     "data": {
      "text/html": [
       "<div>\n",
       "<style scoped>\n",
       "    .dataframe tbody tr th:only-of-type {\n",
       "        vertical-align: middle;\n",
       "    }\n",
       "\n",
       "    .dataframe tbody tr th {\n",
       "        vertical-align: top;\n",
       "    }\n",
       "\n",
       "    .dataframe thead th {\n",
       "        text-align: right;\n",
       "    }\n",
       "</style>\n",
       "<table border=\"1\" class=\"dataframe\">\n",
       "  <thead>\n",
       "    <tr style=\"text-align: right;\">\n",
       "      <th></th>\n",
       "      <th>Date</th>\n",
       "      <th>ACME</th>\n",
       "      <th>ACME_s1</th>\n",
       "    </tr>\n",
       "  </thead>\n",
       "  <tbody>\n",
       "    <tr>\n",
       "      <td>1</td>\n",
       "      <td>19940102</td>\n",
       "      <td>11908500</td>\n",
       "      <td>12384900.0</td>\n",
       "    </tr>\n",
       "    <tr>\n",
       "      <td>2</td>\n",
       "      <td>19940103</td>\n",
       "      <td>12470700</td>\n",
       "      <td>11908500.0</td>\n",
       "    </tr>\n",
       "    <tr>\n",
       "      <td>3</td>\n",
       "      <td>19940104</td>\n",
       "      <td>12725400</td>\n",
       "      <td>12470700.0</td>\n",
       "    </tr>\n",
       "    <tr>\n",
       "      <td>4</td>\n",
       "      <td>19940105</td>\n",
       "      <td>10894800</td>\n",
       "      <td>12725400.0</td>\n",
       "    </tr>\n",
       "    <tr>\n",
       "      <td>5</td>\n",
       "      <td>19940106</td>\n",
       "      <td>6639000</td>\n",
       "      <td>10894800.0</td>\n",
       "    </tr>\n",
       "  </tbody>\n",
       "</table>\n",
       "</div>"
      ],
      "text/plain": [
       "       Date      ACME     ACME_s1\n",
       "1  19940102  11908500  12384900.0\n",
       "2  19940103  12470700  11908500.0\n",
       "3  19940104  12725400  12470700.0\n",
       "4  19940105  10894800  12725400.0\n",
       "5  19940106   6639000  10894800.0"
      ]
     },
     "execution_count": 42,
     "metadata": {},
     "output_type": "execute_result"
    }
   ],
   "source": [
    "dataset = train[['Date', 'ACME']].copy()\n",
    "dataset['ACME_s1'] = dataset.ACME.shift()\n",
    "dataset.dropna(inplace=True)\n",
    "dataset.head()"
   ]
  },
  {
   "cell_type": "code",
   "execution_count": 44,
   "metadata": {},
   "outputs": [],
   "source": [
    "X = dataset[['ACME_s1']]\n",
    "y = dataset.ACME"
   ]
  },
  {
   "cell_type": "code",
   "execution_count": 72,
   "metadata": {},
   "outputs": [],
   "source": [
    "def fit_evaluate(pipeline, X, y):\n",
    "    scores = cross_validate(\n",
    "        pipeline, \n",
    "        X, y, \n",
    "        scoring=['neg_mean_absolute_error', 'neg_mean_squared_error', 'r2'],\n",
    "        cv=3, \n",
    "        n_jobs=-1\n",
    "    )\n",
    "    print(f'MAE: {scores[\"test_neg_mean_absolute_error\"].mean()*-1:.3f} {np.round(scores[\"test_neg_mean_absolute_error\"]*-1, 3)}')          \n",
    "    print(f'MSE: {scores[\"test_neg_mean_squared_error\"].mean()*-1:.3f} {np.round(scores[\"test_neg_mean_squared_error\"]*-1, 3)}')\n",
    "    print(f'R^2: {scores[\"test_r2\"].mean()*-1:.3f} {np.round(scores[\"test_r2\"]*-1, 3)}')\n",
    "    print()\n",
    "    \n",
    "    X_train, X_test, y_train, y_test = train_test_split(X, y)\n",
    "    fig, ax = plt.subplots(figsize=(7, 7))\n",
    "    visualizer = PredictionError(pipeline, ax=ax)\n",
    "    visualizer.fit(X_train, y_train)\n",
    "    visualizer.score(X_test, y_test)\n",
    "    visualizer.show()\n",
    "    \n",
    "    if isinstance(pipeline, Pipeline) and hasattr(pipeline.steps[-1][1], 'feature_importances_'):\n",
    "        feature_importances = pd.DataFrame({'name': mapper.transformed_names_, 'importance': pipeline[-1].feature_importances_})\n",
    "        feature_importances.sort_values(by='importance', ascending=False, inplace=True)\n",
    "        print(feature_importances)\n",
    "          \n",
    "    return pipeline"
   ]
  },
  {
   "cell_type": "code",
   "execution_count": 73,
   "metadata": {},
   "outputs": [
    {
     "name": "stdout",
     "output_type": "stream",
     "text": [
      "MAE: 6713730.993 [6827760.853 6843875.884 6469556.24 ]\n",
      "MSE: 61962300041932.773 [6.33898044e+13 6.44180151e+13 5.80790806e+13]\n",
      "R^2: 0.001 [0.002 0.    0.001]\n",
      "\n"
     ]
    },
    {
     "data": {
      "image/png": "[encoded data removed]",
      "text/plain": [
       "<Figure size 504x504 with 1 Axes>"
      ]
     },
     "metadata": {},
     "output_type": "display_data"
    }
   ],
   "source": [
    "pipeline = make_pipeline(\n",
    "    DummyRegressor()\n",
    ")\n",
    "pipeline = fit_evaluate(reg, X, y)"
   ]
  },
  {
   "cell_type": "code",
   "execution_count": null,
   "metadata": {},
   "outputs": [],
   "source": [
    "pipeline = make_pipeline(\n",
    "    DummyRegressor()\n",
    ")\n",
    "pipeline = fit_evaluate(reg, X, y)"
   ]
  },
  {
   "cell_type": "code",
   "execution_count": 77,
   "metadata": {},
   "outputs": [
    {
     "name": "stdout",
     "output_type": "stream",
     "text": [
      "MAE: 6713730.993 [6827760.853 6843875.884 6469556.24 ]\n",
      "MSE: 61962300041932.773 [6.33898044e+13 6.44180151e+13 5.80790806e+13]\n",
      "R^2: 0.001 [0.002 0.    0.001]\n",
      "\n"
     ]
    },
    {
     "data": {
      "image/png": "[encoded data removed]",
      "text/plain": [
       "<Figure size 504x504 with 1 Axes>"
      ]
     },
     "metadata": {},
     "output_type": "display_data"
    }
   ],
   "source": [
    "pipeline = make_pipeline(\n",
    "    LinearRegression()\n",
    ")\n",
    "pipeline = fit_evaluate(reg, X, y)"
   ]
  },
  {
   "cell_type": "code",
   "execution_count": null,
   "metadata": {},
   "outputs": [],
   "source": []
  },
  {
   "cell_type": "code",
   "execution_count": 23,
   "metadata": {},
   "outputs": [],
   "source": [
    "apcp = Dataset('train/apcp_sfc_latlon_subset_19940101_20071231.nc')"
   ]
  },
  {
   "cell_type": "code",
   "execution_count": 25,
   "metadata": {},
   "outputs": [
    {
     "data": {
      "text/plain": [
       "{'time': <class 'netCDF4._netCDF4.Variable'>\n",
       " float64 time(time)\n",
       "     long_name: Time\n",
       "     units: hours since 1800-01-01 00:00:00\n",
       "     axis: T\n",
       " unlimited dimensions: \n",
       " current shape = (5113,)\n",
       " filling on, default _FillValue of 9.969209968386869e+36 used,\n",
       " 'intTime': <class 'netCDF4._netCDF4.Variable'>\n",
       " int32 intTime(time)\n",
       "     long_name: time as an integer (YYYYMMDDHH)\n",
       " unlimited dimensions: \n",
       " current shape = (5113,)\n",
       " filling on, default _FillValue of -2147483647 used,\n",
       " 'lat': <class 'netCDF4._netCDF4.Variable'>\n",
       " float32 lat(lat)\n",
       "     long_name: Latitude\n",
       "     standard_name: latitude\n",
       "     units: degrees_north\n",
       "     actual_range: [31. 39.]\n",
       "     axis: Y\n",
       " unlimited dimensions: \n",
       " current shape = (9,)\n",
       " filling on, default _FillValue of 9.969209968386869e+36 used,\n",
       " 'lon': <class 'netCDF4._netCDF4.Variable'>\n",
       " float32 lon(lon)\n",
       "     long_name: Longitude\n",
       "     standard_name: longitude\n",
       "     units: degrees_east\n",
       "     actual_range: [254. 269.]\n",
       "     axis: X\n",
       " unlimited dimensions: \n",
       " current shape = (16,)\n",
       " filling on, default _FillValue of 9.969209968386869e+36 used,\n",
       " 'ens': <class 'netCDF4._netCDF4.Variable'>\n",
       " int16 ens(ens)\n",
       "     long_name: ensemble\n",
       "     standard_name: ensemble\n",
       "     axis: E\n",
       "     description: 0 is control, other values are perturbation numbers\n",
       " unlimited dimensions: \n",
       " current shape = (11,)\n",
       " filling on, default _FillValue of -32767 used,\n",
       " 'fhour': <class 'netCDF4._netCDF4.Variable'>\n",
       " int32 fhour(fhour)\n",
       "     long_name: forecast hour\n",
       "     units: hours\n",
       " unlimited dimensions: \n",
       " current shape = (5,)\n",
       " filling on, default _FillValue of -2147483647 used,\n",
       " 'intValidTime': <class 'netCDF4._netCDF4.Variable'>\n",
       " int32 intValidTime(time, fhour)\n",
       "     long_name: valid time as an integer (YYYYDDMMHH)\n",
       " unlimited dimensions: \n",
       " current shape = (5113, 5)\n",
       " filling on, default _FillValue of -2147483647 used,\n",
       " 'Total_precipitation': <class 'netCDF4._netCDF4.Variable'>\n",
       " float32 Total_precipitation(time, ens, fhour, lat, lon)\n",
       "     _FillValue: 9999.0\n",
       "     units: kg m-2\n",
       "     long_name: Total_precipitation_Accumulation (Accumulation for  Mixed Intervals) @ surface\n",
       "     cell_methods: time: sum\n",
       "     GRIB_param_discipline: Meteorological_products\n",
       "     GRIB_param_category: Moisture\n",
       "     GRIB_param_name: Total_precipitation\n",
       "     GRIB_generating_process_type: Forecast\n",
       "     GRIB_param_id: [2 0 1 8]\n",
       "     GRIB_product_definition_template: 8\n",
       "     GRIB_product_definition_template_desc: Average, accumulation, extreme values or other statistically processed value at a horizontal level in a time interval\n",
       "     GRIB_level_type: 1\n",
       "     GRIB_level_type_name: surface\n",
       "     GRIB_interval_stat_type: Accumulation\n",
       "     GRIB_VectorComponentFlag: easterlyNortherlyRelative\n",
       " unlimited dimensions: \n",
       " current shape = (5113, 11, 5, 9, 16)\n",
       " filling on}"
      ]
     },
     "execution_count": 25,
     "metadata": {},
     "output_type": "execute_result"
    }
   ],
   "source": [
    "apcp.variables"
   ]
  },
  {
   "cell_type": "code",
   "execution_count": 24,
   "metadata": {},
   "outputs": [
    {
     "data": {
      "text/plain": [
       "{'time': <class 'netCDF4._netCDF4.Dimension'>: name = 'time', size = 5113,\n",
       " 'lat': <class 'netCDF4._netCDF4.Dimension'>: name = 'lat', size = 9,\n",
       " 'lon': <class 'netCDF4._netCDF4.Dimension'>: name = 'lon', size = 16,\n",
       " 'ens': <class 'netCDF4._netCDF4.Dimension'>: name = 'ens', size = 11,\n",
       " 'fhour': <class 'netCDF4._netCDF4.Dimension'>: name = 'fhour', size = 5}"
      ]
     },
     "execution_count": 24,
     "metadata": {},
     "output_type": "execute_result"
    }
   ],
   "source": [
    "apcp.dimensions"
   ]
  },
  {
   "cell_type": "code",
   "execution_count": 17,
   "metadata": {},
   "outputs": [],
   "source": [
    "dataset = Dataset('gefs_elevations.nc')"
   ]
  },
  {
   "cell_type": "code",
   "execution_count": 21,
   "metadata": {},
   "outputs": [
    {
     "data": {
      "text/plain": [
       "{'lon': <class 'netCDF4._netCDF4.Dimension'>: name = 'lon', size = 16,\n",
       " 'lat': <class 'netCDF4._netCDF4.Dimension'>: name = 'lat', size = 9}"
      ]
     },
     "execution_count": 21,
     "metadata": {},
     "output_type": "execute_result"
    }
   ],
   "source": [
    "dataset.dimensions"
   ]
  },
  {
   "cell_type": "code",
   "execution_count": 19,
   "metadata": {},
   "outputs": [
    {
     "data": {
      "text/plain": [
       "{'elevation_control': <class 'netCDF4._netCDF4.Variable'>\n",
       " float32 elevation_control(lat, lon)\n",
       "     units: m\n",
       " unlimited dimensions: \n",
       " current shape = (9, 16)\n",
       " filling on, default _FillValue of 9.969209968386869e+36 used,\n",
       " 'elevation_perturbation': <class 'netCDF4._netCDF4.Variable'>\n",
       " float32 elevation_perturbation(lat, lon)\n",
       "     units: m\n",
       " unlimited dimensions: \n",
       " current shape = (9, 16)\n",
       " filling on, default _FillValue of 9.969209968386869e+36 used,\n",
       " 'latitude': <class 'netCDF4._netCDF4.Variable'>\n",
       " float32 latitude(lat, lon)\n",
       " unlimited dimensions: \n",
       " current shape = (9, 16)\n",
       " filling on, default _FillValue of 9.969209968386869e+36 used,\n",
       " 'longitude': <class 'netCDF4._netCDF4.Variable'>\n",
       " float32 longitude(lat, lon)\n",
       " unlimited dimensions: \n",
       " current shape = (9, 16)\n",
       " filling on, default _FillValue of 9.969209968386869e+36 used}"
      ]
     },
     "execution_count": 19,
     "metadata": {},
     "output_type": "execute_result"
    }
   ],
   "source": [
    "dataset.variables"
   ]
  },
  {
   "cell_type": "code",
   "execution_count": 18,
   "metadata": {},
   "outputs": [
    {
     "data": {
      "text/plain": [
       "['__class__',\n",
       " '__delattr__',\n",
       " '__dir__',\n",
       " '__doc__',\n",
       " '__enter__',\n",
       " '__eq__',\n",
       " '__exit__',\n",
       " '__format__',\n",
       " '__ge__',\n",
       " '__getattr__',\n",
       " '__getattribute__',\n",
       " '__getitem__',\n",
       " '__gt__',\n",
       " '__hash__',\n",
       " '__init__',\n",
       " '__init_subclass__',\n",
       " '__le__',\n",
       " '__lt__',\n",
       " '__ne__',\n",
       " '__new__',\n",
       " '__orthogonal_indexing__',\n",
       " '__reduce__',\n",
       " '__reduce_ex__',\n",
       " '__repr__',\n",
       " '__setattr__',\n",
       " '__sizeof__',\n",
       " '__str__',\n",
       " '__subclasshook__',\n",
       " '__unicode__',\n",
       " '_close',\n",
       " '_close_mem',\n",
       " '_enddef',\n",
       " '_grpid',\n",
       " '_isopen',\n",
       " '_ncstring_attrs__',\n",
       " '_redef',\n",
       " 'close',\n",
       " 'cmptypes',\n",
       " 'createCompoundType',\n",
       " 'createDimension',\n",
       " 'createEnumType',\n",
       " 'createGroup',\n",
       " 'createVLType',\n",
       " 'createVariable',\n",
       " 'data_model',\n",
       " 'delncattr',\n",
       " 'dimensions',\n",
       " 'disk_format',\n",
       " 'enumtypes',\n",
       " 'file_format',\n",
       " 'filepath',\n",
       " 'get_variables_by_attributes',\n",
       " 'getncattr',\n",
       " 'groups',\n",
       " 'isopen',\n",
       " 'keepweakref',\n",
       " 'ncattrs',\n",
       " 'parent',\n",
       " 'path',\n",
       " 'renameAttribute',\n",
       " 'renameDimension',\n",
       " 'renameGroup',\n",
       " 'renameVariable',\n",
       " 'set_always_mask',\n",
       " 'set_auto_chartostring',\n",
       " 'set_auto_mask',\n",
       " 'set_auto_maskandscale',\n",
       " 'set_auto_scale',\n",
       " 'set_fill_off',\n",
       " 'set_fill_on',\n",
       " 'set_ncstring_attrs',\n",
       " 'setncattr',\n",
       " 'setncattr_string',\n",
       " 'setncatts',\n",
       " 'sync',\n",
       " 'variables',\n",
       " 'vltypes']"
      ]
     },
     "execution_count": 18,
     "metadata": {},
     "output_type": "execute_result"
    }
   ],
   "source": [
    "dir(dataset)"
   ]
  },
  {
   "cell_type": "code",
   "execution_count": null,
   "metadata": {},
   "outputs": [],
   "source": []
  }
 ],
 "metadata": {
  "kernelspec": {
   "display_name": "Python 3",
   "language": "python",
   "name": "python3"
  },
  "language_info": {
   "codemirror_mode": {
    "name": "ipython",
    "version": 3
   },
   "file_extension": ".py",
   "mimetype": "text/x-python",
   "name": "python",
   "nbconvert_exporter": "python",
   "pygments_lexer": "ipython3",
   "version": "3.7.4"
  }
 },
 "nbformat": 4,
 "nbformat_minor": 4
}
